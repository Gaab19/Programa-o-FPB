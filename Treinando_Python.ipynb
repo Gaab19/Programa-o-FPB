{
  "nbformat": 4,
  "nbformat_minor": 0,
  "metadata": {
    "colab": {
      "provenance": [],
      "authorship_tag": "ABX9TyMqTu8g5CR8li1OaS0Nlnnt",
      "include_colab_link": true
    },
    "kernelspec": {
      "name": "python3",
      "display_name": "Python 3"
    },
    "language_info": {
      "name": "python"
    }
  },
  "cells": [
    {
      "cell_type": "markdown",
      "metadata": {
        "id": "view-in-github",
        "colab_type": "text"
      },
      "source": [
        "<a href=\"https://colab.research.google.com/github/Gaab19/Python-FPB/blob/main/Treinando_Python.ipynb\" target=\"_parent\"><img src=\"https://colab.research.google.com/assets/colab-badge.svg\" alt=\"Open In Colab\"/></a>"
      ]
    },
    {
      "cell_type": "code",
      "execution_count": null,
      "metadata": {
        "id": "WUw-r2laqH1X"
      },
      "outputs": [],
      "source": [
        "#CRIE UM PROGRAMA QUE, VAI LER VARIOS NUMEROS E COLOCAR EM UMA LISTA E DEPOIS DISSO MOSTRE:\n",
        "#QUANTOS NUMEROS FORAM DIGITADOS\n",
        "#A LISTA DE VALORES EM ORDEM DECRESCENTE \n",
        "#SE O VALOR 5 FOR DIGITADO E SE ESTA OU NAO NA LISTA\n",
        "\n",
        "valores = []\n",
        "while True:\n",
        "    valores.append(int(input('Digite um valor: ')))\n",
        "    resp = str(input('Quer continuar? [S/N]'))\n",
        "    if resp in 'Nn':\n",
        "     break\n",
        "print('-=' * 30)\n",
        "print(f'Voce digitou {len(valores)} elementos.')\n",
        "valores.sort(reverse=True)\n",
        "print(f'Os valores em ordem decrescente são {valores}')\n",
        "if 5 in valores:\n",
        "  print('O valor 5 faz parte da lista!')\n",
        "else:\n",
        "  print('O valor 5 não foi encontrado na lista!')"
      ]
    },
    {
      "cell_type": "code",
      "source": [
        "numeros = [7, 3, 1, 4, 8, 23, 12]\n",
        "\n",
        "new_list = list(filter(lambda x: x%2==0, numeros ))\n",
        "\n",
        "new_list\n",
        "     "
      ],
      "metadata": {
        "colab": {
          "base_uri": "https://localhost:8080/"
        },
        "id": "XSLnULVM4FU-",
        "outputId": "b2ef4c8a-e45a-40bb-c729-696a13e367b9"
      },
      "execution_count": 25,
      "outputs": [
        {
          "output_type": "execute_result",
          "data": {
            "text/plain": [
              "[4, 8, 12]"
            ]
          },
          "metadata": {},
          "execution_count": 25
        }
      ]
    },
    {
      "cell_type": "code",
      "source": [
        "def lin():\n",
        "    print('-' * 30)\n",
        "    \n",
        "\n",
        "# PROGRAMA PRINCIPAL\n",
        "lin()\n",
        "print('CURSO DE PYTHON')\n",
        "lin()\n",
        "print('APRENDA PYTHON')\n",
        "lin()\n",
        "print('GABRIEL SANTOS')\n",
        "lin()"
      ],
      "metadata": {
        "colab": {
          "base_uri": "https://localhost:8080/"
        },
        "id": "TV1FrCsc60sp",
        "outputId": "4415b3f7-c570-472f-a096-7643266dcd31"
      },
      "execution_count": 30,
      "outputs": [
        {
          "output_type": "stream",
          "name": "stdout",
          "text": [
            "------------------------------\n",
            "CURSO DE PYTHON\n",
            "------------------------------\n",
            "APRENDA PYTHON\n",
            "------------------------------\n",
            "GABRIEL SANTOS\n",
            "------------------------------\n"
          ]
        }
      ]
    },
    {
      "cell_type": "code",
      "source": [
        "def titulo(txt):\n",
        "  print('-' * 30)\n",
        "  print(txt)\n",
        "  print('-' * 30)\n",
        "\n",
        "# PROGRAMA PRINCIPAL\n",
        "titulo('CURSO BOM')\n",
        "titulo('PYTHON E MUITO BOM !')\n",
        "titulo('GABRIEL SANTOS')\n"
      ],
      "metadata": {
        "colab": {
          "base_uri": "https://localhost:8080/"
        },
        "id": "3ANNYkM49AQt",
        "outputId": "d518d5e8-dec3-4254-fe40-04080b637bf4"
      },
      "execution_count": 36,
      "outputs": [
        {
          "output_type": "stream",
          "name": "stdout",
          "text": [
            "------------------------------\n",
            "CURSO BOM\n",
            "------------------------------\n",
            "------------------------------\n",
            "PYTHON E MUITO BOM !\n",
            "------------------------------\n",
            "------------------------------\n",
            "GABRIEL SANTOS\n",
            "------------------------------\n"
          ]
        }
      ]
    },
    {
      "cell_type": "code",
      "source": [
        "def soma(a, b):\n",
        "  print(f'A = {a} e B = {b} ')\n",
        "  s = a + b \n",
        "  print(f'A soma de A + B = {s}')\n",
        "\n",
        "\n",
        "#Programa Principal\n",
        "soma(a=4, b=1)\n",
        "soma(a=9, b=3)\n",
        "soma(a=5, b=2)\n",
        "soma(a=3, b=2)\n"
      ],
      "metadata": {
        "colab": {
          "base_uri": "https://localhost:8080/"
        },
        "id": "kR23waJQ-dhe",
        "outputId": "cb7caf89-c6fb-40ed-d544-8cbd1b1cac55"
      },
      "execution_count": 49,
      "outputs": [
        {
          "output_type": "stream",
          "name": "stdout",
          "text": [
            "A = 4 e B = 1 \n",
            "A soma de A + B = 5\n",
            "A = 9 e B = 3 \n",
            "A soma de A + B = 12\n",
            "A = 5 e B = 2 \n",
            "A soma de A + B = 7\n",
            "A = 3 e B = 2 \n",
            "A soma de A + B = 5\n"
          ]
        }
      ]
    },
    {
      "cell_type": "code",
      "source": [
        "#CONTADOR\n",
        "\n",
        "def contador(*num):\n",
        "  tam = len(num)\n",
        "  print(f'Recebi os valores {num} e são ao todo {tam} numeros' )\n",
        "\n",
        "\n",
        "contador(2, 1, 7)\n",
        "contador(8, 0)\n",
        "contador(4, 4, 7, 6, 2)"
      ],
      "metadata": {
        "colab": {
          "base_uri": "https://localhost:8080/"
        },
        "id": "6cq6g8SIBNQr",
        "outputId": "1570f0c8-19cb-455a-ba43-56f86dd9aaf4"
      },
      "execution_count": 53,
      "outputs": [
        {
          "output_type": "stream",
          "name": "stdout",
          "text": [
            "Recebi os valores (2, 1, 7) e são ao todo 3 numeros\n",
            "Recebi os valores (8, 0) e são ao todo 2 numeros\n",
            "Recebi os valores (4, 4, 7, 6, 2) e são ao todo 5 numeros\n"
          ]
        }
      ]
    },
    {
      "cell_type": "code",
      "source": [
        "def dobra(lst):\n",
        "  pos = 0\n",
        "  while pos < len(lst):\n",
        "    lst[pos] *= 2\n",
        "    pos +=1\n",
        "\n",
        "valores = [6, 3, 9, 1, 0, 2]\n",
        "dobra(valores)\n",
        "print(valores)\n",
        "\n"
      ],
      "metadata": {
        "colab": {
          "base_uri": "https://localhost:8080/"
        },
        "id": "Z21WvEkjC-bw",
        "outputId": "185d2e0b-29b7-4200-8e26-fb14cd687027"
      },
      "execution_count": 57,
      "outputs": [
        {
          "output_type": "stream",
          "name": "stdout",
          "text": [
            "[12, 6, 18, 2, 0, 4]\n"
          ]
        }
      ]
    },
    {
      "cell_type": "code",
      "source": [
        "def soma(* valores):\n",
        "  s = 0\n",
        "  for num in valores:\n",
        "    s += num\n",
        "  print(f'Somando os valores {valores} temos {s}')\n",
        "\n",
        "\n",
        "soma(5, 2)\n",
        "soma(2, 9, 4)\n"
      ],
      "metadata": {
        "colab": {
          "base_uri": "https://localhost:8080/"
        },
        "id": "OgPvqw5IEFoP",
        "outputId": "c47b8069-688c-45b3-e01b-e2cc80071b4e"
      },
      "execution_count": 62,
      "outputs": [
        {
          "output_type": "stream",
          "name": "stdout",
          "text": [
            "Somando os valores (5, 2) temos 7\n",
            "Somando os valores (2, 9, 4) temos 15\n"
          ]
        }
      ]
    },
    {
      "cell_type": "code",
      "source": [],
      "metadata": {
        "colab": {
          "base_uri": "https://localhost:8080/"
        },
        "id": "oqprtg3nFv0J",
        "outputId": "ac8911c4-2da9-4028-fa26-55b05e03c621"
      },
      "execution_count": 64,
      "outputs": [
        {
          "output_type": "stream",
          "name": "stdout",
          "text": [
            "------------------------------\n",
            "CONTROLE PRINCIPAL\n",
            "------------------------------\n"
          ]
        }
      ]
    }
  ]
}