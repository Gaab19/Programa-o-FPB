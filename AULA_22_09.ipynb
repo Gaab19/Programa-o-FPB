{
  "nbformat": 4,
  "nbformat_minor": 0,
  "metadata": {
    "colab": {
      "provenance": [],
      "authorship_tag": "ABX9TyORnAtJq0jMZ4gmJ54nisdv",
      "include_colab_link": true
    },
    "kernelspec": {
      "name": "python3",
      "display_name": "Python 3"
    },
    "language_info": {
      "name": "python"
    }
  },
  "cells": [
    {
      "cell_type": "markdown",
      "metadata": {
        "id": "view-in-github",
        "colab_type": "text"
      },
      "source": [
        "<a href=\"https://colab.research.google.com/github/Gaab19/Python-FPB/blob/main/AULA_22_09.ipynb\" target=\"_parent\"><img src=\"https://colab.research.google.com/assets/colab-badge.svg\" alt=\"Open In Colab\"/></a>"
      ]
    },
    {
      "cell_type": "code",
      "execution_count": 2,
      "metadata": {
        "id": "DSpXJt2-AZ9P"
      },
      "outputs": [],
      "source": [
        "# desenvolva uma aplicação, usando qualquer linguagem de proramção que atenda os seguintes requisitos:\n",
        "# receba 2 variaveis\n",
        "# realize a soma das variaveis\n",
        "# caso a soma das variaveis seja MAIOR OU IGUAL a 10, escreva todos os valores positivos anteriores a ele usando o laço for\n",
        "# caso a soma seja MENOR QUE 10, escreva de 1 ate o seu valor usando o laço WHILE e usando o comando SWITCH CASE, imprimir o seu valor por extenso\n",
        "\n"
      ]
    },
    {
      "cell_type": "code",
      "source": [
        "A = 2\n",
        "B = 4"
      ],
      "metadata": {
        "id": "F9via8IdE47u"
      },
      "execution_count": null,
      "outputs": []
    },
    {
      "cell_type": "code",
      "source": [
        "soma1 = input('Insira o primeiro numero: ')\n",
        "soma2 = input('Insira o segundo numero: ')\n",
        "print('RESULTADO')\n",
        "\n",
        "numPares = []\n",
        "for num in range(11):\n",
        "  if(num % 2 == 0):\n",
        "    numPares.append(num)\n",
        "numPares\n"
      ],
      "metadata": {
        "colab": {
          "base_uri": "https://localhost:8080/"
        },
        "id": "CNbo7V_KCaIB",
        "outputId": "7147a69f-441b-49fd-bf39-ec2fec263192"
      },
      "execution_count": 18,
      "outputs": [
        {
          "output_type": "stream",
          "name": "stdout",
          "text": [
            "Insira o primeiro numero: 1\n",
            "Insira o segundo numero: 1\n",
            "RESULTADO\n"
          ]
        },
        {
          "output_type": "execute_result",
          "data": {
            "text/plain": [
              "[0, 2, 4, 6, 8, 10]"
            ]
          },
          "metadata": {},
          "execution_count": 18
        }
      ]
    },
    {
      "cell_type": "code",
      "source": [
        "# ESCREVA UM CODIGO QUE RECEBA UM VALOR DE 1 A 26 E DIGA QUAL A LETRA CORRESPONDENTE NO ALFABETO.\n",
        "#PARA EVITAR QUE O INDICE 0 SEJA A LETRA A, COLOQUEM O PRIMEIRO VALOR DO ARRAY(LISTA) COMO UM VALOR NULO OU EM BRANCO\n"
      ],
      "metadata": {
        "id": "V0ZcpT47PWW7"
      },
      "execution_count": null,
      "outputs": []
    },
    {
      "cell_type": "code",
      "source": [
        "alfabeto = ['' 'A','B', 'C' ,'D','E','F','G','H','I','J','K','L','M','N','O','P','Q','R','S','T','U','V','W','X','Y','Z']"
      ],
      "metadata": {
        "id": "kWjjqlNxP5I7"
      },
      "execution_count": 22,
      "outputs": []
    },
    {
      "cell_type": "code",
      "source": [
        "cont = 1\n",
        "\n",
        "while (cont < 27):\n",
        "  print(cont)\n",
        "  cont+=1"
      ],
      "metadata": {
        "colab": {
          "base_uri": "https://localhost:8080/"
        },
        "id": "zu8r9j0hQRZ9",
        "outputId": "d6478a67-11a6-4b7e-a40e-9664f1c16c15"
      },
      "execution_count": 23,
      "outputs": [
        {
          "output_type": "stream",
          "name": "stdout",
          "text": [
            "1\n",
            "2\n",
            "3\n",
            "4\n",
            "5\n",
            "6\n",
            "7\n",
            "8\n",
            "9\n",
            "10\n",
            "11\n",
            "12\n",
            "13\n",
            "14\n",
            "15\n",
            "16\n",
            "17\n",
            "18\n",
            "19\n",
            "20\n",
            "21\n",
            "22\n",
            "23\n",
            "24\n",
            "25\n",
            "26\n"
          ]
        }
      ]
    },
    {
      "cell_type": "code",
      "source": [
        "def numero_para_letra(numero):\n",
        "  if 1 <= numero <= 26:\n",
        "    return chr(ord('A') + numero - 1)\n",
        "  else:\n",
        "    return \"Numero correspondente a letra(1 a 26)\"\n",
        "\n",
        "numero = int(input(\"Digite um numero de 1 a 26: \"))\n",
        "letra = numero_para_letra(numero)\n",
        "print(f'o numero {numero} correspondente a letra {letra}')\n"
      ],
      "metadata": {
        "colab": {
          "base_uri": "https://localhost:8080/"
        },
        "id": "cPCoQJeMQn2N",
        "outputId": "ff567eff-5bf5-4003-8044-4e6fda7d4066"
      },
      "execution_count": 31,
      "outputs": [
        {
          "output_type": "stream",
          "name": "stdout",
          "text": [
            "Digite um numero de 1 a 26: 2\n",
            "o numero 2 correspondente a letra B\n"
          ]
        }
      ]
    }
  ]
}