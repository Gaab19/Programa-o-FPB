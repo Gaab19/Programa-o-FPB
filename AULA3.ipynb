{
  "nbformat": 4,
  "nbformat_minor": 0,
  "metadata": {
    "colab": {
      "provenance": [],
      "authorship_tag": "ABX9TyO7YwiViyegBGv13gCUHcWW",
      "include_colab_link": true
    },
    "kernelspec": {
      "name": "python3",
      "display_name": "Python 3"
    },
    "language_info": {
      "name": "python"
    }
  },
  "cells": [
    {
      "cell_type": "markdown",
      "metadata": {
        "id": "view-in-github",
        "colab_type": "text"
      },
      "source": [
        "<a href=\"https://colab.research.google.com/github/Gaab19/Programa-o-FPB/blob/main/AULA3.ipynb\" target=\"_parent\"><img src=\"https://colab.research.google.com/assets/colab-badge.svg\" alt=\"Open In Colab\"/></a>"
      ]
    },
    {
      "cell_type": "code",
      "execution_count": 8,
      "metadata": {
        "colab": {
          "base_uri": "https://localhost:8080/"
        },
        "id": "4iZm_A80k076",
        "outputId": "5e2df4cb-579e-4205-b4bf-d5d51e933acf"
      },
      "outputs": [
        {
          "output_type": "stream",
          "name": "stdout",
          "text": [
            "Meu nome e gabriel, minha idade é:  idade\n"
          ]
        }
      ],
      "source": [
        "print('Meu nome e gabriel, minha idade é: ', 'idade')"
      ]
    },
    {
      "cell_type": "code",
      "source": [
        "a = 25\n",
        "b = 42\n",
        "\n",
        "print(a+b)\n",
        "print(a-b)\n",
        "print(a*b)\n",
        "print(a/b)\n",
        "print(a%b) #O resto da operação"
      ],
      "metadata": {
        "colab": {
          "base_uri": "https://localhost:8080/"
        },
        "id": "ZzVmtRx1lg1f",
        "outputId": "943cda44-0730-46f4-fe5b-bd0852f5f4f1"
      },
      "execution_count": 2,
      "outputs": [
        {
          "output_type": "stream",
          "name": "stdout",
          "text": [
            "67\n",
            "-17\n",
            "1050\n",
            "0.5952380952380952\n",
            "25\n"
          ]
        }
      ]
    },
    {
      "cell_type": "code",
      "source": [
        "nome = input('Digite seu nome: ') #Strings\n",
        "print('Olá, '+nome)"
      ],
      "metadata": {
        "colab": {
          "base_uri": "https://localhost:8080/"
        },
        "id": "XJLPxULpm_PB",
        "outputId": "672f0c12-e835-471f-87ab-9014d3e6c4eb"
      },
      "execution_count": 12,
      "outputs": [
        {
          "output_type": "stream",
          "name": "stdout",
          "text": [
            "Digite seu nome: Junin\n",
            "Olá, Junin\n"
          ]
        }
      ]
    },
    {
      "cell_type": "code",
      "source": [
        "#Codigo para dizer a idade da pessoa\n",
        "anoNascim = input('Digite o ano de nascimento!')\n",
        "print('Sua idade é: ',2023-int(anoNascim))"
      ],
      "metadata": {
        "colab": {
          "base_uri": "https://localhost:8080/"
        },
        "id": "VnC4R-3MnjzY",
        "outputId": "c6515751-4cd8-4fd7-9cee-476c3de29e9d"
      },
      "execution_count": 14,
      "outputs": [
        {
          "output_type": "stream",
          "name": "stdout",
          "text": [
            "Digite o ano de nascimento!1964\n",
            "Sua idade é:  59\n"
          ]
        }
      ]
    },
    {
      "cell_type": "code",
      "source": [
        "#Solticita a altura e o peso de alguem, e retorna o IMC\n",
        "#IMC = peso / altura**2\n",
        "\n",
        "peso = float(input('Digite o seu peso! '))\n",
        "altura = float(input('Digite a sua altura?'))\n",
        "imc = peso/altura**2\n",
        "print('O IMC é:', imc)\n"
      ],
      "metadata": {
        "colab": {
          "base_uri": "https://localhost:8080/"
        },
        "id": "MdSeXL7pohYM",
        "outputId": "71cd6301-0881-40d1-e1dd-f955bc380f88"
      },
      "execution_count": 23,
      "outputs": [
        {
          "output_type": "stream",
          "name": "stdout",
          "text": [
            "Digite o seu peso! 85\n",
            "Digite a sua altura?1.75\n",
            "O IMC é: 27.755102040816325\n"
          ]
        }
      ]
    },
    {
      "cell_type": "code",
      "source": [
        "#Verificações lógicas\n",
        "\n",
        "a = 45\n",
        "b = 33\n",
        "print(a > b) #true\n",
        "print(a < b) #false\n",
        "print(a == b) #false\n",
        "print(a != b) #true\n"
      ],
      "metadata": {
        "id": "2i8XmVWKu0QC"
      },
      "execution_count": null,
      "outputs": []
    },
    {
      "cell_type": "code",
      "source": [
        "#Verificar se um número é par\n",
        "\n",
        "num = int(input('Digite um número: '))\n",
        "if(num%2 == 0):\n",
        " print('O número é par')\n",
        "else:\n",
        " print('O número é impar')\n"
      ],
      "metadata": {
        "colab": {
          "base_uri": "https://localhost:8080/"
        },
        "id": "4GKf-r4IuhRy",
        "outputId": "027a04a0-25be-4c07-8042-78fcce53485b"
      },
      "execution_count": 31,
      "outputs": [
        {
          "output_type": "stream",
          "name": "stdout",
          "text": [
            "Digite um número: 2\n",
            "O número é par\n"
          ]
        }
      ]
    },
    {
      "cell_type": "code",
      "source": [
        "#Em um campeonato de MMA, três categorias por peso\n",
        "#galo até 70kg\n",
        "#medio até 80kg\n",
        "#meio pesado até 90kg\n",
        "peso = float(input('Digite o peso do atleta:'))\n",
        "if(peso < 70):\n",
        "  print('Galo')\n",
        "elif(peso <= 80):\n",
        "    print('Médio')\n",
        "elif(peso <=90):\n",
        "  print('Meio pesado')\n",
        "else:\n",
        "  print('Meio pesado')\n",
        "\n"
      ],
      "metadata": {
        "colab": {
          "base_uri": "https://localhost:8080/"
        },
        "id": "eMllMKICyglG",
        "outputId": "14436ba3-0e57-404d-9a8b-59d716bcde75"
      },
      "execution_count": 33,
      "outputs": [
        {
          "output_type": "stream",
          "name": "stdout",
          "text": [
            "Digite o peso do atleta:87\n",
            "Meio pesado\n"
          ]
        }
      ]
    },
    {
      "cell_type": "code",
      "source": [
        "peso = float(input('Digite o seu peso! '))\n",
        "altura = float(input('Digite a sua altura?'))\n",
        "imc = peso/altura**2\n",
        "if(imc < 18,5):\n",
        "  print('Abaixo do peso normal')\n",
        "elif(imc < 25):\n",
        " print('Tais bem')\n",
        "elif(imc < 30):\n",
        " print('Buchin ta aparecendo')\n",
        "elif(imc < 35):\n",
        " print('Obeso I')\n",
        "elif(imc < 40):\n",
        "   print('Obeso II')\n",
        "else:\n",
        "    print('Obeso III')\n",
        "print('O IMC do paciente é:', round(imc,2))"
      ],
      "metadata": {
        "colab": {
          "base_uri": "https://localhost:8080/"
        },
        "id": "6mnll42C1uev",
        "outputId": "879ccf1d-27e4-49f1-ea26-7dae8fa5b0e9"
      },
      "execution_count": 36,
      "outputs": [
        {
          "output_type": "stream",
          "name": "stdout",
          "text": [
            "Digite o seu peso! 85\n",
            "Digite a sua altura?1.75\n",
            "Abaixo do peso normal\n",
            "O IMC do paciente é: 27.76\n"
          ]
        }
      ]
    },
    {
      "cell_type": "code",
      "source": [],
      "metadata": {
        "id": "mcQ1kadX1uZW"
      },
      "execution_count": null,
      "outputs": []
    }
  ]
}