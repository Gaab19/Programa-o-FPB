{
  "nbformat": 4,
  "nbformat_minor": 0,
  "metadata": {
    "colab": {
      "provenance": [],
      "authorship_tag": "ABX9TyOlHx7hruVLPm9tGUlUmz+S",
      "include_colab_link": true
    },
    "kernelspec": {
      "name": "python3",
      "display_name": "Python 3"
    },
    "language_info": {
      "name": "python"
    }
  },
  "cells": [
    {
      "cell_type": "markdown",
      "metadata": {
        "id": "view-in-github",
        "colab_type": "text"
      },
      "source": [
        "<a href=\"https://colab.research.google.com/github/Gaab19/Programa-o-FPB/blob/main/Aula_1_de_Python.ipynb\" target=\"_parent\"><img src=\"https://colab.research.google.com/assets/colab-badge.svg\" alt=\"Open In Colab\"/></a>"
      ]
    },
    {
      "cell_type": "code",
      "execution_count": null,
      "metadata": {
        "colab": {
          "base_uri": "https://localhost:8080/"
        },
        "id": "tu0bKnRs5A-C",
        "outputId": "0f0f4768-7195-4fac-ce00-ea893822f20a"
      },
      "outputs": [
        {
          "output_type": "stream",
          "name": "stdout",
          "text": [
            "Agora vai\n"
          ]
        }
      ],
      "source": [
        "print('Agora vai')"
      ]
    },
    {
      "cell_type": "code",
      "source": [
        "#Variáveis\n",
        "nome = \"Gabriel Santos\"\n",
        "print(nome)"
      ],
      "metadata": {
        "id": "ih0-amxL5Mdh"
      },
      "execution_count": null,
      "outputs": []
    },
    {
      "cell_type": "code",
      "source": [
        "#Operações com variáveis\n",
        "a = 20\n",
        "b = 35\n",
        "soma =  a + b\n",
        "subtracao = a - b\n",
        "divisao = a / b\n",
        "multiplicacao = a * b\n"
      ],
      "metadata": {
        "id": "vftJRpwR5N05"
      },
      "execution_count": null,
      "outputs": []
    },
    {
      "cell_type": "code",
      "source": [
        "print(soma)\n",
        "print(subtracao)\n",
        "print(divisao)\n",
        "print(multiplicacao)\n"
      ],
      "metadata": {
        "colab": {
          "base_uri": "https://localhost:8080/"
        },
        "id": "L-3CdSTt5ai9",
        "outputId": "75dfa855-063c-4ca2-8ee1-4049d5d45bad"
      },
      "execution_count": null,
      "outputs": [
        {
          "output_type": "stream",
          "name": "stdout",
          "text": [
            "55\n",
            "-15\n",
            "0.5714285714285714\n",
            "700\n"
          ]
        }
      ]
    },
    {
      "cell_type": "code",
      "source": [
        "#Dobro\n",
        "\n",
        "num = 42\n",
        "print(num * 2)\n"
      ],
      "metadata": {
        "id": "tZtpefiK5n4m"
      },
      "execution_count": null,
      "outputs": []
    },
    {
      "cell_type": "code",
      "source": [
        "#Média\n",
        "n1 = 2\n",
        "n2 = 6.5\n",
        "n3 = 7\n",
        "media = (n1+n2+n3)/3\n",
        "print(media) "
      ],
      "metadata": {
        "id": "HlgdmR2X6BjL"
      },
      "execution_count": null,
      "outputs": []
    },
    {
      "cell_type": "code",
      "source": [
        "#Calcule idade\n",
        "\n",
        "anoNascim = 2003\n",
        "print(2023 - 2003)"
      ],
      "metadata": {
        "id": "d0OQElo86wEm"
      },
      "execution_count": null,
      "outputs": []
    },
    {
      "cell_type": "code",
      "source": [
        "#Trabalhando com Inputs\n",
        "\n",
        "nome = input('Digite seu nome')\n",
        "print('Ola,' +nome)"
      ],
      "metadata": {
        "id": "Lu26XUdS7ARq"
      },
      "execution_count": null,
      "outputs": []
    },
    {
      "cell_type": "code",
      "source": [
        "#Pede o numero e multiplica por 3\n",
        "#PARSE\n",
        "\n",
        "num = int(input(\"Digite\"))\n",
        "print(num*3)"
      ],
      "metadata": {
        "id": "X8htIdWm7izC"
      },
      "execution_count": null,
      "outputs": []
    }
  ]
}