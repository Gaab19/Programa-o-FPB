{
  "nbformat": 4,
  "nbformat_minor": 0,
  "metadata": {
    "colab": {
      "provenance": [],
      "authorship_tag": "ABX9TyPW0yzW2YPhVNvls4ObgFx/",
      "include_colab_link": true
    },
    "kernelspec": {
      "name": "python3",
      "display_name": "Python 3"
    },
    "language_info": {
      "name": "python"
    }
  },
  "cells": [
    {
      "cell_type": "markdown",
      "metadata": {
        "id": "view-in-github",
        "colab_type": "text"
      },
      "source": [
        "<a href=\"https://colab.research.google.com/github/Gaab19/Programa-o-FPB/blob/main/AULA_30_03.ipynb\" target=\"_parent\"><img src=\"https://colab.research.google.com/assets/colab-badge.svg\" alt=\"Open In Colab\"/></a>"
      ]
    },
    {
      "cell_type": "code",
      "execution_count": null,
      "metadata": {
        "id": "_pAbL3JAlk1W"
      },
      "outputs": [],
      "source": []
    },
    {
      "cell_type": "code",
      "source": [
        "#Tipos Boleanos\n",
        "\n",
        "print(100 == (50+50)) #igualdade\n",
        "print(100 >= (50+50))\n",
        "print(100 > (50+50)) \n",
        "print(100 <= (50+50)) \n",
        "print(100 != (50+50))\n",
        "print(100 != 99)"
      ],
      "metadata": {
        "colab": {
          "base_uri": "https://localhost:8080/"
        },
        "id": "uQxWZb9zlotg",
        "outputId": "52e10cb0-2bfe-4ec8-fb59-1c49bc60d612"
      },
      "execution_count": 7,
      "outputs": [
        {
          "output_type": "stream",
          "name": "stdout",
          "text": [
            "True\n",
            "True\n",
            "False\n",
            "True\n",
            "False\n",
            "True\n"
          ]
        }
      ]
    },
    {
      "cell_type": "code",
      "source": [
        "#Se a idade for maior ou igual que 16 exiba: pode tirar habilitação\n",
        "\n",
        "idade = int(input('Digite a idade: '))\n",
        "if(idade >= 16):\n",
        "  print(\"Pode tirar habilitação\")\n",
        "else:\n",
        "    print(\"Ainda não, jovem 🗿🍷\")\n"
      ],
      "metadata": {
        "colab": {
          "base_uri": "https://localhost:8080/"
        },
        "id": "W2wUA2Y2o8zZ",
        "outputId": "2b8c6eb7-55da-48d8-8bd9-d4e32ca6f784"
      },
      "execution_count": 13,
      "outputs": [
        {
          "output_type": "stream",
          "name": "stdout",
          "text": [
            "Digite a idade: 15\n",
            "Ainda não, jovem 🗿🍷\n"
          ]
        }
      ]
    },
    {
      "cell_type": "code",
      "source": [
        "#Se for o sexo feminino \"F\", e tiver 55 anos ou mais, pode se aposentar\n",
        "#Se for do sexo masculino \"M\", só se aposenta com 60 anos ou mais\n",
        "\n",
        "sexo = 'F'                                         #else usado no final dos codigos / elif para acresentar uma informação / if pode ser usado para idades\n",
        "idade = 68\n",
        "if(sexo =='F' and idade >=55):\n",
        "  print('Pode se aposentar')\n",
        "elif(sexo =='M' and idade >=60):\n",
        "    print('Não pode se aposentar')\n",
        "else:\n",
        "  print('Ainda não pode se aposentar')\n"
      ],
      "metadata": {
        "colab": {
          "base_uri": "https://localhost:8080/"
        },
        "id": "AHe1Puqbqnv2",
        "outputId": "7a84ccfb-83fc-436f-da55-17eafa0237c0"
      },
      "execution_count": 17,
      "outputs": [
        {
          "output_type": "stream",
          "name": "stdout",
          "text": [
            "Pode se aposentar\n"
          ]
        }
      ]
    },
    {
      "cell_type": "code",
      "source": [
        "#Versão II\n",
        "\n",
        "sexo = input('insira o sexo: m (masculino) ou f (feminino): ')                           \n",
        "idade = int(input('insira a idade: '))\n",
        "if((sexo =='f' and idade >=55) or (sexo =='m' and idade >=60)):\n",
        "  print('Pode se aposentar')\n",
        "else:\n",
        "  print('Ainda não pode se aposentar')\n"
      ],
      "metadata": {
        "colab": {
          "base_uri": "https://localhost:8080/"
        },
        "id": "5Rhd14Nds-UF",
        "outputId": "b5d4dfba-650b-4f8a-90f0-b31a6b399a58"
      },
      "execution_count": 32,
      "outputs": [
        {
          "output_type": "stream",
          "name": "stdout",
          "text": [
            "insira o sexo: m (masculino) ou f (feminino): m\n",
            "insira a idade: 57\n",
            "Ainda não pode se aposentar\n"
          ]
        }
      ]
    },
    {
      "cell_type": "code",
      "source": [
        "#Solicita três numeros A,B e C.\n",
        "#Imprima na tela se A+B é menor\n",
        "\n",
        "a = int(input('Digite o primeiro num:'))\n",
        "b = int(input('Digite o segundo num: '))\n",
        "c = int(input('Digite o terceiro num: '))\n",
        "if(a+b < c):\n",
        "  print('é menor')\n",
        "else:\n",
        "  print('Não é menor')"
      ],
      "metadata": {
        "colab": {
          "base_uri": "https://localhost:8080/"
        },
        "id": "bY3zrFfWuvmA",
        "outputId": "cf0aa4cf-0c1d-4868-c468-e2472963f939"
      },
      "execution_count": 33,
      "outputs": [
        {
          "output_type": "stream",
          "name": "stdout",
          "text": [
            "Digite o primeiro num:2\n",
            "Digite o segundo num: 3\n",
            "Digite o terceiro num: 4\n",
            "Não é menor\n"
          ]
        }
      ]
    },
    {
      "cell_type": "code",
      "source": [
        "#Escreva um algritmo que recebe 2 valores inteiros\n",
        "#E escreve na tela qual é o maior\n",
        "\n",
        "a = int(input('Digite o primeiro num:'))\n",
        "b = int(input('Digite o segundo num: '))\n",
        "\n",
        "if(a > b):\n",
        "  print('É maior')\n",
        "else:\n",
        "  print('É menor')\n",
        "\n"
      ],
      "metadata": {
        "colab": {
          "base_uri": "https://localhost:8080/"
        },
        "id": "0WiJ3SrTyWMU",
        "outputId": "2c3344b5-bc8a-4965-8268-4dfb1e6af919"
      },
      "execution_count": 37,
      "outputs": [
        {
          "output_type": "stream",
          "name": "stdout",
          "text": [
            "Digite o primeiro num:1\n",
            "Digite o segundo num: 2\n",
            "É menor\n"
          ]
        }
      ]
    },
    {
      "cell_type": "code",
      "source": [
        "#LINGUAGENS FORTEMENTE TIPADAS \n",
        "#LINGUAGENS DE TIPAGEM DINAMICA\n",
        "\n",
        "numeros = [12, 5 , 3 , 6]\n",
        "numeros"
      ],
      "metadata": {
        "colab": {
          "base_uri": "https://localhost:8080/"
        },
        "id": "ukn29_Az8dK0",
        "outputId": "dc4c832a-03a1-43f9-f739-e5c15d551e05"
      },
      "execution_count": 38,
      "outputs": [
        {
          "output_type": "execute_result",
          "data": {
            "text/plain": [
              "[12, 5, 3, 6]"
            ]
          },
          "metadata": {},
          "execution_count": 38
        }
      ]
    },
    {
      "cell_type": "code",
      "source": [
        "#tamanho de uma lista\n",
        "\n",
        "len(numeros)"
      ],
      "metadata": {
        "colab": {
          "base_uri": "https://localhost:8080/"
        },
        "id": "N9VPRsgB8w3K",
        "outputId": "0936dc7d-8e3f-4392-f7ae-44447286cd94"
      },
      "execution_count": 39,
      "outputs": [
        {
          "output_type": "execute_result",
          "data": {
            "text/plain": [
              "4"
            ]
          },
          "metadata": {},
          "execution_count": 39
        }
      ]
    },
    {
      "cell_type": "code",
      "source": [
        "#Indices [25, 4, 3, 6]\n",
        "\n",
        "print(numeros[0])\n",
        "print(numeros[1])\n",
        "print(numeros[2])\n",
        "print(numeros[3])"
      ],
      "metadata": {
        "colab": {
          "base_uri": "https://localhost:8080/"
        },
        "id": "3hlxiNUx84WS",
        "outputId": "504705b1-61f7-4c6d-f24d-b041df5f990a"
      },
      "execution_count": 40,
      "outputs": [
        {
          "output_type": "stream",
          "name": "stdout",
          "text": [
            "12\n",
            "5\n",
            "3\n",
            "6\n"
          ]
        }
      ]
    },
    {
      "cell_type": "code",
      "source": [
        "#listas de outros tipos\n",
        "\n",
        "alunos = ['Mariana','Junio', 'Zezo', 'Valentina','Gabriel']\n",
        "alunos "
      ],
      "metadata": {
        "colab": {
          "base_uri": "https://localhost:8080/"
        },
        "id": "ATuH-KX49Mj6",
        "outputId": "06874354-fb94-4ed9-e0d6-6ff599d11c8c"
      },
      "execution_count": 64,
      "outputs": [
        {
          "output_type": "execute_result",
          "data": {
            "text/plain": [
              "['Mariana', 'Junio', 'Zezo', 'Valentina', 'Gabriel']"
            ]
          },
          "metadata": {},
          "execution_count": 64
        }
      ]
    },
    {
      "cell_type": "code",
      "source": [
        "#alterar os valores na lista \n",
        "alunos[3] = 'Ivan'\n",
        "alunos"
      ],
      "metadata": {
        "colab": {
          "base_uri": "https://localhost:8080/"
        },
        "id": "eovmcy_Z91kJ",
        "outputId": "a0842d06-8d4e-4f11-ef84-e6410b3fe636"
      },
      "execution_count": 66,
      "outputs": [
        {
          "output_type": "execute_result",
          "data": {
            "text/plain": [
              "['Mariana', 'Ivan', 'Zezo', 'Ivan', 'Gabriel']"
            ]
          },
          "metadata": {},
          "execution_count": 66
        }
      ]
    },
    {
      "cell_type": "code",
      "source": [
        "#inserir valores na lista .append()\n",
        "\n",
        "alunos.append(input('Digite um nome: '))\n",
        "alunos"
      ],
      "metadata": {
        "colab": {
          "base_uri": "https://localhost:8080/"
        },
        "id": "83qqdh9z-hrx",
        "outputId": "ac63cd8d-45a4-4f54-f408-ae1060eac9c6"
      },
      "execution_count": 67,
      "outputs": [
        {
          "name": "stdout",
          "output_type": "stream",
          "text": [
            "Digite um nome: Juvenal\n"
          ]
        },
        {
          "output_type": "execute_result",
          "data": {
            "text/plain": [
              "['Mariana', 'Ivan', 'Zezo', 'Ivan', 'Gabriel', 'Juvenal']"
            ]
          },
          "metadata": {},
          "execution_count": 67
        }
      ]
    },
    {
      "cell_type": "code",
      "source": [
        "alunos.pop()\n",
        "alunos"
      ],
      "metadata": {
        "colab": {
          "base_uri": "https://localhost:8080/"
        },
        "id": "Eb6LQXn4AGk1",
        "outputId": "9c3ba765-00f3-4d11-e2bc-71ba734fa7c6"
      },
      "execution_count": 68,
      "outputs": [
        {
          "output_type": "execute_result",
          "data": {
            "text/plain": [
              "['Mariana', 'Ivan', 'Zezo', 'Ivan', 'Gabriel']"
            ]
          },
          "metadata": {},
          "execution_count": 68
        }
      ]
    },
    {
      "cell_type": "code",
      "source": [
        "alunos.append(input('Digite o nome: '))"
      ],
      "metadata": {
        "colab": {
          "base_uri": "https://localhost:8080/"
        },
        "id": "JFgB5iFPAiEG",
        "outputId": "8abe25fa-48e9-40d9-b082-7a00cab6353d"
      },
      "execution_count": 70,
      "outputs": [
        {
          "name": "stdout",
          "output_type": "stream",
          "text": [
            "Digite o nome: Tiringa\n"
          ]
        }
      ]
    },
    {
      "cell_type": "code",
      "source": [
        "alunos"
      ],
      "metadata": {
        "colab": {
          "base_uri": "https://localhost:8080/"
        },
        "id": "3ecBonqfAx_z",
        "outputId": "cab82874-6247-4cd6-de13-5318fdd7c1d5"
      },
      "execution_count": 71,
      "outputs": [
        {
          "output_type": "execute_result",
          "data": {
            "text/plain": [
              "['Mariana', 'Ivan', 'Zezo', 'Ivan', 'Gabriel', 'Juvenaldo', 'Tiringa']"
            ]
          },
          "metadata": {},
          "execution_count": 71
        }
      ]
    },
    {
      "cell_type": "code",
      "source": [
        "#Descobrir se ha um valor determinado na lista, exibir sua posição\n",
        "\n",
        "if 'Gabriel' in alunos:\n",
        " print('Nome Encontrado ✅')\n",
        "else:\n",
        " print('Nome Não Encontrado ❌')"
      ],
      "metadata": {
        "colab": {
          "base_uri": "https://localhost:8080/"
        },
        "id": "5gdxPNQOBEaL",
        "outputId": "55d0cb87-304a-4923-c08e-c5f3b42b0f82"
      },
      "execution_count": 77,
      "outputs": [
        {
          "output_type": "stream",
          "name": "stdout",
          "text": [
            "Nome Encontrado ✅\n"
          ]
        }
      ]
    }
  ]
}